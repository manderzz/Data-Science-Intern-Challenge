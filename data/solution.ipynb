{
 "cells": [
  {
   "cell_type": "code",
   "execution_count": 1,
   "id": "07ee1468-a30c-4b09-94c5-00302c55fdd1",
   "metadata": {},
   "outputs": [],
   "source": [
    "import pandas as pd\n",
    "df = pd.read_csv('2019 Winter Data Science Intern Challenge Data Set - Sheet1.csv')"
   ]
  },
  {
   "cell_type": "code",
   "execution_count": 76,
   "id": "fa60d119-777b-439e-9fcd-c88110bc2a52",
   "metadata": {},
   "outputs": [
    {
     "name": "stdout",
     "output_type": "stream",
     "text": [
      "15725640\n",
      "5000\n",
      "3145.13\n",
      "15725640\n",
      "43936\n",
      "357.92\n"
     ]
    }
   ],
   "source": [
    "#print(df.head(30))\n",
    "#print(df.columns)\n",
    "\n",
    "#Question 1\n",
    "\n",
    "#calculating the average order value (AOV) \"naively\"\n",
    "oa_total = df['order_amount'].sum()\n",
    "print(oa_total)\n",
    "#counting the number of orders there are\n",
    "final_total = df['total_items'].count()\n",
    "print(final_total)\n",
    "print((oa_total/final_total).round(2))\n",
    "\n",
    "#looking at the order_ids with total items > 8 \n",
    "#print(df.loc[df['total_items'] > 8])\n",
    "\n",
    "# THE NEW WAY of calculating the average order value (AOV) \n",
    "oa_total = df['order_amount'].sum()\n",
    "print(oa_total)\n",
    "#counting the number of orders there are\n",
    "final_total = df['total_items'].sum()\n",
    "print(final_total)\n",
    "print((oa_total/final_total).round(2))"
   ]
  },
  {
   "cell_type": "code",
   "execution_count": null,
   "id": "ea795e73-dc47-4ad4-8861-955de7089f94",
   "metadata": {},
   "outputs": [],
   "source": []
  },
  {
   "cell_type": "code",
   "execution_count": null,
   "id": "9c7f3e5b-a988-468e-849c-5f0daba8a599",
   "metadata": {},
   "outputs": [],
   "source": []
  }
 ],
 "metadata": {
  "kernelspec": {
   "display_name": "Python 3 (ipykernel)",
   "language": "python",
   "name": "python3"
  },
  "language_info": {
   "codemirror_mode": {
    "name": "ipython",
    "version": 3
   },
   "file_extension": ".py",
   "mimetype": "text/x-python",
   "name": "python",
   "nbconvert_exporter": "python",
   "pygments_lexer": "ipython3",
   "version": "3.9.6"
  }
 },
 "nbformat": 4,
 "nbformat_minor": 5
}